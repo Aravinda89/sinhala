{
 "cells": [
  {
   "cell_type": "code",
   "execution_count": 2,
   "id": "17366cee",
   "metadata": {},
   "outputs": [],
   "source": [
    "# !pip install deep-translator"
   ]
  },
  {
   "cell_type": "code",
   "execution_count": 6,
   "id": "f7a93957",
   "metadata": {},
   "outputs": [
    {
     "name": "stdout",
     "output_type": "stream",
     "text": [
      "How are you? Weather today?\n"
     ]
    }
   ],
   "source": [
    "from deep_translator import GoogleTranslator\n",
    "\n",
    "translator = GoogleTranslator(source=\"auto\", target=\"en\")\n",
    "translated_text = translator.translate(\"ඔබට කෙසේද? අද කාලගුණය ?\")\n",
    "print(translated_text)  # Output: Hola, ¿cómo estás?"
   ]
  },
  {
   "cell_type": "code",
   "execution_count": 7,
   "id": "7d3f69fd",
   "metadata": {},
   "outputs": [
    {
     "name": "stdout",
     "output_type": "stream",
     "text": [
      "how are you today? Is the weather good today?\n"
     ]
    }
   ],
   "source": [
    "translated_text = translator.translate(\"你今天好吗？今天天气好吗？\")\n",
    "print(translated_text)  # Output: Hola, ¿cómo estás?"
   ]
  },
  {
   "cell_type": "code",
   "execution_count": null,
   "id": "73d0fa45",
   "metadata": {},
   "outputs": [],
   "source": []
  }
 ],
 "metadata": {
  "kernelspec": {
   "display_name": "nextchat",
   "language": "python",
   "name": "nextchat"
  },
  "language_info": {
   "codemirror_mode": {
    "name": "ipython",
    "version": 3
   },
   "file_extension": ".py",
   "mimetype": "text/x-python",
   "name": "python",
   "nbconvert_exporter": "python",
   "pygments_lexer": "ipython3",
   "version": "3.13.2"
  }
 },
 "nbformat": 4,
 "nbformat_minor": 5
}
